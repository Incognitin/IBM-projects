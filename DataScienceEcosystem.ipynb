{
 "cells": [
  {
   "cell_type": "markdown",
   "id": "e8e290b7-e2ce-4875-b914-126d9b7c7b61",
   "metadata": {},
   "source": [
    "# Data Science Tools and Ecosystem"
   ]
  },
  {
   "cell_type": "markdown",
   "id": "069e1f4d-bd8a-479b-9640-9b426e3f81b3",
   "metadata": {},
   "source": [
    "An overview of the Data Science tools and ecosystem will be provided in this notebook."
   ]
  },
  {
   "cell_type": "markdown",
   "id": "bc3daa5a-77ad-4085-84b3-6e8050527da4",
   "metadata": {},
   "source": [
    "**Objectives:**\n",
    "* Most popular languages in Data Science\n",
    "* Most common libraries used in Data Science\n",
    "* Data Science Tools\n",
    "* Examples of arithmetic expressions in Python"
   ]
  },
  {
   "cell_type": "markdown",
   "id": "fa8f8324-447d-418c-8e67-9c80cfbace59",
   "metadata": {},
   "source": [
    "Some of the most popular languages used by Data Scientists are:"
   ]
  },
  {
   "cell_type": "markdown",
   "id": "b3b7fbed-268e-4b6d-8f8f-d7243834825f",
   "metadata": {},
   "source": [
    "1. Python \n",
    "2. R\n",
    "3. SQL\n",
    "4. Scala\n",
    "5. Java"
   ]
  },
  {
   "cell_type": "markdown",
   "id": "48339b03-c2a2-420d-956f-e666917a2bb1",
   "metadata": {},
   "source": [
    "Some of the commonly used libraries by Data Scientists include:"
   ]
  },
  {
   "cell_type": "markdown",
   "id": "f1c8e560-5668-4da8-ba91-44b35286b69d",
   "metadata": {},
   "source": [
    "1. Matplotlib\n",
    "2. NumPy\n",
    "3. Pandas\n",
    "4. SciPy\n",
    "4. PyTorch"
   ]
  },
  {
   "cell_type": "markdown",
   "id": "29f16143-de6c-447e-a3fd-af644de8f127",
   "metadata": {},
   "source": [
    "| Data Science Tools |\n",
    "|---|\n",
    "| Jupyter Notebook |\n",
    "| VS code | \n",
    "|Anaconda |"
   ]
  },
  {
   "cell_type": "markdown",
   "id": "91ac0b01-2994-49e9-b215-ea6fee435f9e",
   "metadata": {},
   "source": [
    "### Below are a few examples of evaluating arithmetic expressions in Python"
   ]
  },
  {
   "cell_type": "code",
   "execution_count": 2,
   "id": "a3a466ad-cf85-4e4d-a47c-b3a7ac61f292",
   "metadata": {
    "tags": []
   },
   "outputs": [
    {
     "data": {
      "text/plain": [
       "17"
      ]
     },
     "execution_count": 2,
     "metadata": {},
     "output_type": "execute_result"
    }
   ],
   "source": [
    "# This a simple arithmetic expression to mutiply then add integers\n",
    "(3*4)+5"
   ]
  },
  {
   "cell_type": "code",
   "execution_count": 6,
   "id": "60ebd256-077a-43b7-80db-060cf2845a3d",
   "metadata": {
    "tags": []
   },
   "outputs": [
    {
     "data": {
      "text/plain": [
       "3.3333333333333335"
      ]
     },
     "execution_count": 6,
     "metadata": {},
     "output_type": "execute_result"
    }
   ],
   "source": [
    "# This will convert 200 minutes to hours by diving by 60\n",
    "200/60 "
   ]
  },
  {
   "cell_type": "markdown",
   "id": "bbf5fbc9-f4a6-4e1d-895b-c5ebdb627039",
   "metadata": {
    "tags": []
   },
   "source": [
    "## Author \n",
    "Nithin Shyjan"
   ]
  }
 ],
 "metadata": {
  "kernelspec": {
   "display_name": "Python",
   "language": "python",
   "name": "conda-env-python-py"
  },
  "language_info": {
   "codemirror_mode": {
    "name": "ipython",
    "version": 3
   },
   "file_extension": ".py",
   "mimetype": "text/x-python",
   "name": "python",
   "nbconvert_exporter": "python",
   "pygments_lexer": "ipython3",
   "version": "3.7.12"
  }
 },
 "nbformat": 4,
 "nbformat_minor": 5
}
